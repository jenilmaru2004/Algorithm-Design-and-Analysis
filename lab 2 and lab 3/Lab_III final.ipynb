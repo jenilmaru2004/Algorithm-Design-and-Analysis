{
 "cells": [
  {
   "cell_type": "markdown",
   "metadata": {},
   "source": [
    "# Computer Science 2XC3 - Graded Lab II\n"
   ]
  },
  {
   "cell_type": "markdown",
   "metadata": {},
   "source": [
    "Please refer to the pdf for detailed instructions. The below file contains all the preliminary code you will need to work on the lab. You can copy paste instructions here to create one cohesive lab and organize it that best suits your teams workflow.\n"
   ]
  },
  {
   "cell_type": "code",
   "execution_count": 1,
   "metadata": {},
   "outputs": [],
   "source": [
    "from __future__ import annotations\n",
    "from typing import Tuple, Dict, List, Any, Union, Set\n",
    "from collections import deque\n",
    "import queue\n",
    "import random\n",
    "import timeit\n",
    "import matplotlib.pyplot as plt\n",
    "import numpy as np\n",
    "import math"
   ]
  },
  {
   "cell_type": "code",
   "execution_count": 2,
   "metadata": {},
   "outputs": [],
   "source": [
    "class GraphI:\n",
    "    # using hash map\n",
    "    def __init__(self, edges):\n",
    "        self.graph: Dict[int, List[int]] = {}\n",
    "        for x, y in edges:\n",
    "            if x not in self.graph:\n",
    "                self.graph[x] = []\n",
    "            if y not in self.graph:\n",
    "                self.graph[y] = []\n",
    "            self.graph[x].append(y)\n",
    "\n",
    "    def has_edge(self, src, dst):\n",
    "        return dst in self.graph and src in self.graph[dst]\n",
    "\n",
    "    def get_graph_size(self) -> int:\n",
    "        return len(self.graph)\n",
    "\n",
    "    def get_graph(self,) -> Dict[int, List[int]]:\n",
    "        return self.graph\n",
    "\n",
    "    def remove_edge(self, src, dst):\n",
    "        self.graph[src].remove(dst)\n",
    "\n",
    "    def get_neighbors(self, src) -> List[int]:\n",
    "        if src not in self.graph:\n",
    "            print(src, self.graph)\n",
    "        return self.graph[src]\n",
    "\n",
    "    def add_edge(self, src, dst):\n",
    "        if src not in self.graph:\n",
    "            self.graph[src] = []\n",
    "        if dst not in self.graph:\n",
    "            self.graph[dst] = []\n",
    "        if src not in self.graph:\n",
    "            self.graph[src] = []\n",
    "        self.graph[src].append(dst)"
   ]
  },
  {
   "cell_type": "code",
   "execution_count": 3,
   "metadata": {},
   "outputs": [],
   "source": [
    "class GraphII:\n",
    "\n",
    "    # using adjacency list\n",
    "    def __init__(self, nodes):\n",
    "        self.graph = []\n",
    "        # node numbered 0-1\n",
    "        for node in range(nodes):\n",
    "            self.graph.append([])\n",
    "\n",
    "    def has_edge(self, src, dst):\n",
    "        return src in self.graph[dst]\n",
    "\n",
    "    def add_edge(self, src, dst):\n",
    "        if not self.has_edge(src, dst):\n",
    "            self.graph[src].append(dst)\n",
    "            self.graph[dst].append(src)\n",
    "\n",
    "    def get_graph(self,):\n",
    "        return self.graph\n",
    "\n",
    "    def add_edge(self, src, dst):\n",
    "        if not self.has_edge(src, dst):\n",
    "            self.graph[src].append(dst)\n",
    "            self.graph[dst].append(src)"
   ]
  },
  {
   "cell_type": "code",
   "execution_count": 4,
   "metadata": {},
   "outputs": [],
   "source": [
    "def depth_first_search(G, node, end_point=None):\n",
    "    stack = [node]\n",
    "    graph = G.get_graph()\n",
    "    seen = set()\n",
    "\n",
    "    while len(stack) != 0:\n",
    "        node = stack.pop()\n",
    "        # search for neighbours in graph\n",
    "        if node not in seen:\n",
    "            seen.add(node)\n",
    "            print(\"Visited node:\" + str(node))\n",
    "            # if the given node has an edge\n",
    "            if node in graph.keys():\n",
    "                # iterate over edges of node\n",
    "                for nn in graph[node]:\n",
    "\n",
    "                    # limited traversal\n",
    "                    if nn == end_point:\n",
    "                        return True\n",
    "                    # add to stack\n",
    "                    stack.append(nn)"
   ]
  },
  {
   "cell_type": "code",
   "execution_count": 5,
   "metadata": {},
   "outputs": [],
   "source": [
    "# Breadth First Search\n",
    "def breadth_first_search(G, node):\n",
    "    stack = [node]\n",
    "    graph = G.get_graph()\n",
    "    seen = set()\n",
    "\n",
    "    seen.add(node)\n",
    "\n",
    "    while len(stack) > 0:\n",
    "        node = stack[0]\n",
    "        stack = stack[1:]\n",
    "        print(\"Visiting node: \" + str(node))\n",
    "        if node in graph.keys():\n",
    "            for nn in graph[node]:\n",
    "                # if node == node2:\n",
    "                #    return True\n",
    "                if nn not in seen:\n",
    "                    stack.append(nn)\n",
    "                    seen.add(nn)"
   ]
  },
  {
   "cell_type": "code",
   "execution_count": 6,
   "metadata": {},
   "outputs": [],
   "source": [
    "# Use the methods below to determine minimum vertex covers\n",
    "\n",
    "def add_to_each(sets, element):\n",
    "    copy = sets.copy()\n",
    "    for set in copy:\n",
    "        set.append(element)\n",
    "    return copy\n",
    "\n",
    "\n",
    "def power_set(set):\n",
    "    if set == []:\n",
    "        return [[]]\n",
    "    return power_set(set[1:]) + add_to_each(power_set(set[1:]), set[0])\n",
    "\n",
    "\n",
    "def is_vertex_cover(G, C):\n",
    "    for start in G:\n",
    "        for end in G[start]:\n",
    "            if not (start in C or end in C):\n",
    "                return False\n",
    "    return True\n",
    "\n",
    "\n",
    "def MVC(G):\n",
    "    nodes = list(G.keys())\n",
    "    subsets = power_set(nodes)\n",
    "    min_cover = nodes\n",
    "    for subset in subsets:\n",
    "        if is_vertex_cover(G, subset):\n",
    "            if len(subset) < len(min_cover):\n",
    "                min_cover = subset\n",
    "    return min_cover"
   ]
  },
  {
   "cell_type": "markdown",
   "metadata": {},
   "source": [
    "## Part 1.1\n"
   ]
  },
  {
   "cell_type": "code",
   "execution_count": 7,
   "metadata": {},
   "outputs": [],
   "source": [
    "# Question 1.1\n",
    "def DFS2(G: Union[GraphI, GraphII], startNode, endNode, visited=None, path=None) -> Union[List[int], None]:\n",
    "    if visited is None:\n",
    "        visited = set()\n",
    "    if path is None:\n",
    "        path = []\n",
    "\n",
    "    # Mark the current node as visited and add it to the path\n",
    "    visited.add(startNode)\n",
    "    path.append(startNode)\n",
    "\n",
    "    if startNode == endNode:  # If the current node is the end node, return the path\n",
    "        return path\n",
    "\n",
    "    if startNode in G.graph:  # Recursively visit neighboring nodes\n",
    "        for neighbor in G.graph[startNode]:\n",
    "            if neighbor not in visited:\n",
    "\n",
    "                result = DFS2(\n",
    "                    G, neighbor, endNode, visited, path.copy())  # Recursive call to DFS\n",
    "                if result:\n",
    "                    return result\n",
    "\n",
    "    return None  # If no path is found, return None\n",
    "\n",
    "\n",
    "def BFS2(G: GraphI, startNode, endNode):\n",
    "    # Initialize a queue for BFS\n",
    "    queue = deque()\n",
    "\n",
    "    # Enqueue the start node and mark it as visited\n",
    "    queue.append((startNode, [startNode]))\n",
    "    visited = set([startNode])\n",
    "\n",
    "    # Perform BFS\n",
    "    while queue:\n",
    "        current_node, path = queue.popleft()\n",
    "        # If the current node is the end node, return the path\n",
    "        if current_node == endNode:\n",
    "            return path\n",
    "        # Enqueue neighboring nodes if they haven't been visited\n",
    "        if current_node in G.graph:\n",
    "            for neighbor in G.graph[current_node]:\n",
    "                if neighbor not in visited:\n",
    "                    queue.append((neighbor, path + [neighbor]))\n",
    "                    visited.add(neighbor)\n",
    "\n",
    "    # If no path is found, return None\n",
    "    return None"
   ]
  },
  {
   "cell_type": "markdown",
   "metadata": {},
   "source": [
    "## Part 1.2\n"
   ]
  },
  {
   "cell_type": "code",
   "execution_count": 8,
   "metadata": {},
   "outputs": [],
   "source": [
    "def DFS3(G: Union[GraphI, GraphII], startNode):\n",
    "    # Initialize a stack for DFS\n",
    "    stack = [startNode]\n",
    "    visited = set()\n",
    "\n",
    "    # Perform DFS to find paths to all nodes\n",
    "    predDict: Dict[int, Union[int, None]] = {}\n",
    "\n",
    "    predDict[startNode] = None\n",
    "\n",
    "    while stack:\n",
    "        currentNode = stack.pop()\n",
    "        if currentNode not in visited:\n",
    "            visited.add(currentNode)\n",
    "            for neighbor in G.graph.get(currentNode, []):\n",
    "                predDict[neighbor] = currentNode\n",
    "                stack.append((neighbor))\n",
    "    return predDict\n",
    "\n",
    "\n",
    "def BFS3(G: Union[GraphI, GraphII], startNode):\n",
    "    # Initialize a queue for BFS\n",
    "    queue = deque()\n",
    "\n",
    "    # Enqueue the start node and mark it as visited\n",
    "    queue.append(startNode)\n",
    "    visited = set()  # Keep track of visited nodes and their parent\n",
    "\n",
    "    predDict: Dict[int, Union[int, None]] = {}\n",
    "\n",
    "    predDict[startNode] = None\n",
    "\n",
    "    # Perform BFS to find shortest path to all nodes\n",
    "    while queue:\n",
    "        currentNode = queue.popleft()\n",
    "        # Enqueue neighboring nodes if they haven't been visited\n",
    "        if currentNode in G.graph:\n",
    "            for neighbor in G.graph[currentNode]:\n",
    "                if neighbor not in predDict:\n",
    "                    queue.append(neighbor)\n",
    "                    # Mark neighbor as visited with current node as parent\n",
    "                    predDict[neighbor] = currentNode\n",
    "\n",
    "    return predDict"
   ]
  },
  {
   "cell_type": "markdown",
   "metadata": {},
   "source": [
    "### Testing (1.1 and 1.2)\n"
   ]
  },
  {
   "cell_type": "code",
   "execution_count": 9,
   "metadata": {},
   "outputs": [
    {
     "name": "stdout",
     "output_type": "stream",
     "text": [
      "[1, 2, 4, 6]\n",
      "[1, 2, 4, 6]\n",
      "{1: None, 2: 1, 3: 1, 4: 2, 5: 4, 6: 4}\n",
      "{1: None, 2: 1, 3: 1, 4: 2, 5: 3, 6: 4}\n"
     ]
    }
   ],
   "source": [
    "graph = GraphI([\n",
    "    (1, 2),\n",
    "    (1, 3),\n",
    "    (2, 4),\n",
    "    (3, 4),\n",
    "    (3, 5),\n",
    "    (4, 6),\n",
    "    (4, 5),\n",
    "])\n",
    "\n",
    "print(DFS2(graph, 1, 6))  # > [1, 2, 4, 6]\n",
    "print(BFS2(graph, 1, 6))  # > [1, 2, 4, 6]\n",
    "print(DFS3(graph, 1))  # > {1: None, 2: 1, 3: 1, 4: 2, 5: 4, 6: 4}\n",
    "print(BFS3(graph, 1))  # > {1: None, 2: 1, 3: 1, 4: 2, 5: 4, 6: 4}"
   ]
  },
  {
   "cell_type": "markdown",
   "metadata": {},
   "source": [
    "## Part 1.3\n"
   ]
  },
  {
   "cell_type": "code",
   "execution_count": 10,
   "metadata": {},
   "outputs": [
    {
     "name": "stdout",
     "output_type": "stream",
     "text": [
      "False\n"
     ]
    }
   ],
   "source": [
    "G = GraphI([(1, 3), (1, 4), (2, 3), (2, 4), (2, 5), (3, 5)])\n",
    "\n",
    "\n",
    "def has_cycle(G: Union[GraphI, GraphII]):\n",
    "    def dfs(G: Union[GraphI, GraphII], node, visited, currentPathVisited):\n",
    "        # utility function that performs DFS\n",
    "        # on a node and determines if it is\n",
    "        # part of a cycle\n",
    "\n",
    "        if node in currentPathVisited:\n",
    "            # this determines a cycle\n",
    "            return True\n",
    "\n",
    "        if node in visited:\n",
    "            # if we have already visited the node\n",
    "            # then we know that no cycle contains this\n",
    "            # node so we can just return False\n",
    "            return False\n",
    "\n",
    "        visited.add(node)\n",
    "        currentPathVisited.add(node)\n",
    "\n",
    "        for neighbor in G.get_neighbors(node):\n",
    "            # we complete DFS for all neighbors of this node\n",
    "            if dfs(G, neighbor, visited, currentPathVisited):\n",
    "                return True\n",
    "\n",
    "        # if no neighbor has a cycle, we return false\n",
    "        return False\n",
    "\n",
    "    visited = set()\n",
    "    for node in G.get_graph().keys():\n",
    "        if node not in visited:\n",
    "            currentPathVisited = set()\n",
    "\n",
    "            if dfs(G, node, visited, currentPathVisited):\n",
    "                return True\n",
    "    return False\n",
    "\n",
    "\n",
    "print(has_cycle(G))"
   ]
  },
  {
   "cell_type": "markdown",
   "metadata": {},
   "source": [
    "## Part 1.4\n"
   ]
  },
  {
   "cell_type": "code",
   "execution_count": 11,
   "metadata": {},
   "outputs": [
    {
     "name": "stdout",
     "output_type": "stream",
     "text": [
      "True\n",
      "False\n"
     ]
    }
   ],
   "source": [
    "def get_path(G: GraphI, start: int, end: int, visited=None, l=0) -> Tuple[bool, int]:\n",
    "    if visited is None:\n",
    "        visited = set()\n",
    "\n",
    "    if start == end:\n",
    "        return True, 1\n",
    "\n",
    "    visited.add(start)\n",
    "    for neighbor in G.get_neighbors(start):\n",
    "        if neighbor not in visited:\n",
    "            if get_path(G, neighbor, end, visited, l + 1):\n",
    "                return True, l + 1\n",
    "    return False, -1\n",
    "\n",
    "\n",
    "def has_path(G: GraphI, start: int, end: int, visited=None) -> bool:\n",
    "    if visited is None:\n",
    "        visited = set()\n",
    "\n",
    "    visited.add(start)\n",
    "    for neighbor in G.get_neighbors(start):\n",
    "        if neighbor not in visited and neighbor != end:\n",
    "            p, length = get_path(G, neighbor, end, visited, 0)\n",
    "            if p and length >= 1:\n",
    "                return True\n",
    "\n",
    "    return False\n",
    "\n",
    "\n",
    "def is_connected(G: GraphI) -> bool:\n",
    "    for n1 in G.get_graph().keys():\n",
    "        for n2 in G.get_graph().keys():\n",
    "            if n1 != n2:\n",
    "                if has_path(G, n1, n2):\n",
    "                    return True\n",
    "    return False\n",
    "\n",
    "\n",
    "print(is_connected(GraphI([(1, 2), (3, 4), (4, 5)])))  # > True (3 -> 4 -> 5)\n",
    "print(is_connected(GraphI([(1, 2), (3, 4), (5, 6)])))  # > False"
   ]
  },
  {
   "cell_type": "markdown",
   "metadata": {},
   "source": [
    "## Part 1.5\n"
   ]
  },
  {
   "cell_type": "code",
   "execution_count": 12,
   "metadata": {},
   "outputs": [],
   "source": [
    "def create_random_graph(n: int, e: int) -> GraphI:\n",
    "    # Create a random graph with n nodes and e edges\n",
    "    # returns a dictionary representing the graph\n",
    "\n",
    "    graph = GraphI([])\n",
    "\n",
    "    while e > 0:\n",
    "        src = random.randint(0, n - 1)\n",
    "        dst = random.randint(0, n - 1)\n",
    "\n",
    "        if src == dst or graph.has_edge(src, dst):\n",
    "            continue\n",
    "\n",
    "        graph.add_edge(src, dst)\n",
    "        e -= 1\n",
    "\n",
    "    return graph"
   ]
  },
  {
   "cell_type": "markdown",
   "metadata": {},
   "source": [
    "## Part 1.6\n"
   ]
  },
  {
   "cell_type": "code",
   "execution_count": 13,
   "metadata": {},
   "outputs": [
    {
     "data": {
      "image/png": "[encoded data removed]",
      "text/plain": [
       "<Figure size 640x480 with 1 Axes>"
      ]
     },
     "metadata": {},
     "output_type": "display_data"
    }
   ],
   "source": [
    "def get_probability_of_cycle(n: int, alpha: float):\n",
    "\n",
    "  # parameters\n",
    "    # e = math.floor(math.sqrt(n))  # we set number of edges to be sqrt(n)\n",
    "    e = math.floor(n * alpha)  # we set number of edges to be sqrt(n)\n",
    "\n",
    "    trials = 1000\n",
    "    cycles = 0\n",
    "    for i in range(trials):\n",
    "        graph = create_random_graph(n, e)\n",
    "        if has_cycle(graph):\n",
    "            cycles += 1\n",
    "\n",
    "    return cycles / trials\n",
    "\n",
    "\n",
    "def plot_probability_of_cycle():\n",
    "    # Plots the probability of a cycle in a random graph\n",
    "    # with n nodes and e edges\n",
    "\n",
    "    n = 100\n",
    "    alpha = 0\n",
    "    x = []\n",
    "    y = []\n",
    "\n",
    "    while alpha <= 1.01:\n",
    "        x.append(alpha)\n",
    "        y.append(get_probability_of_cycle(n, alpha))\n",
    "        alpha += 0.01\n",
    "\n",
    "    plt.plot(x, y)\n",
    "    plt.xlabel(\"Alpha\")\n",
    "    plt.ylabel(\"Probability of a cycle\")\n",
    "    plt.show()\n",
    "\n",
    "\n",
    "plot_probability_of_cycle()"
   ]
  },
  {
   "cell_type": "markdown",
   "metadata": {},
   "source": [
    "### Experiment design\n",
    "\n",
    "We choose a value alpha from which we derive e as floor(n \\* alpha). We set alpha initially to 0 (and get an expected probability of 0). We increase alpha by 0.01 each iteration, to see how the probabilities of getting a cycle increases as alpha approaches 1.01 (e = n + 1, which means that in a directed graph, assuming there are no duplicate edges. the changes of a cycle is 100%)\n",
    "\n",
    "This lets us see the the inputs that achieve a probability of 0% to 100%. We chose 1000 iterations for determining the chances of a cycle for a graph with n, e values since it is enough iterations to converse to a reasonabily confident value, and not too computationally intensive\n",
    "\n",
    "We chose n = 100 to allow us to add one edge each iteration (we increment by 0.01). And any number higher becomes more computationally demanding\n",
    "\n",
    "### Results\n",
    "\n",
    "We notice that the graph looks like a sigmoid curve, with probabilities increasing and an exponential rate with respect to alpha. We can see that the relationship between P(Cycle) is exponentially related to alpha\n"
   ]
  },
  {
   "cell_type": "markdown",
   "metadata": {},
   "source": [
    "## Part 1.7\n"
   ]
  },
  {
   "cell_type": "code",
   "execution_count": 14,
   "metadata": {},
   "outputs": [
    {
     "data": {
      "image/png": "[encoded data removed]",
      "text/plain": [
       "<Figure size 640x480 with 1 Axes>"
      ]
     },
     "metadata": {},
     "output_type": "display_data"
    }
   ],
   "source": [
    "def get_probability_of_connected(n: int, alpha: float):\n",
    "\n",
    "  # parameters\n",
    "    # e = math.floor(math.sqrt(n))  # we set number of edges to be sqrt(n)\n",
    "    e = math.floor(n * alpha)  # we set number of edges to be sqrt(n)\n",
    "\n",
    "    trials = 1000\n",
    "    cycles = 0\n",
    "    for i in range(trials):\n",
    "        graph = create_random_graph(n, e)\n",
    "        if is_connected(graph):\n",
    "            cycles += 1\n",
    "\n",
    "    return cycles / trials\n",
    "\n",
    "\n",
    "def plot_probability_of_connected():\n",
    "    # Plots the probability of a cycle in a random graph\n",
    "    # with n nodes and e edges\n",
    "\n",
    "    n = 100\n",
    "    alpha = 0\n",
    "    x = []\n",
    "    y = []\n",
    "\n",
    "    while alpha <= 0.25:\n",
    "        x.append(alpha)\n",
    "        y.append(get_probability_of_connected(n, alpha))\n",
    "        alpha += 0.01\n",
    "\n",
    "    plt.plot(x, y)\n",
    "    plt.xlabel(\"Alpha\")\n",
    "    plt.ylabel(\"Probability of a connected graph\")\n",
    "    plt.show()\n",
    "\n",
    "\n",
    "plot_probability_of_connected()"
   ]
  },
  {
   "cell_type": "markdown",
   "metadata": {},
   "source": [
    "### Experiment design\n",
    "\n",
    "We decided to use a similar experiment design to the cycle probability experiment, changing some of the parameters, limit alpha to 0.3, since the probability of a connected graph seems to plateau after that. We choose to derive e based on an alpha value because the probability should be correlated to some measure of sparcity rather than edge count, which is what alpha is\n",
    "\n",
    "### results\n",
    "\n",
    "It seems that the relationship between cycles and alpha is roughly linear, and approaches 100% as alpha approaches 25%\n"
   ]
  },
  {
   "cell_type": "markdown",
   "metadata": {},
   "source": [
    "## Part 2.1\n"
   ]
  },
  {
   "cell_type": "code",
   "execution_count": 15,
   "metadata": {},
   "outputs": [],
   "source": [
    "import random\n",
    "\n",
    "\n",
    "def get_highest_degree_vertex(G: Dict[int, List[int]]) -> int:\n",
    "    # Returns the vertex with the highest degree\n",
    "    # in G\n",
    "    max_degree = 0\n",
    "    max_vertex = -1\n",
    "    for v in G:\n",
    "        if len(G[v]) > max_degree:\n",
    "            max_degree = len(G[v])\n",
    "            max_vertex = v\n",
    "    return max_vertex\n",
    "\n",
    "\n",
    "def Approx1(G: GraphI) -> Set[int]:\n",
    "\n",
    "    C: Set[int] = set()\n",
    "\n",
    "    mock_graph = G.get_graph().copy()\n",
    "\n",
    "    while True:\n",
    "        v = get_highest_degree_vertex(mock_graph)\n",
    "        C.add(v)\n",
    "        mock_graph[v] = []  # remove all incident edges to v\n",
    "        if is_vertex_cover(G.get_graph(), C):\n",
    "            return C"
   ]
  },
  {
   "cell_type": "markdown",
   "metadata": {},
   "source": [
    "## Part 2.2\n"
   ]
  },
  {
   "cell_type": "code",
   "execution_count": 16,
   "metadata": {},
   "outputs": [],
   "source": [
    "def Approx2(G: GraphI) -> Set[int]:\n",
    "    C: Set[int] = set()\n",
    "\n",
    "    while True:\n",
    "        vertices = list(G.get_graph().keys())\n",
    "        v = random.choice(vertices)\n",
    "        C.add(v)\n",
    "        G.get_graph()[v] = []  # remove all incident edges to v\n",
    "\n",
    "        if is_vertex_cover(G.get_graph(), C):\n",
    "            return C\n",
    "        else:\n",
    "            continue"
   ]
  },
  {
   "cell_type": "markdown",
   "metadata": {},
   "source": [
    "## Part 2.3\n"
   ]
  },
  {
   "cell_type": "code",
   "execution_count": 17,
   "metadata": {},
   "outputs": [
    {
     "name": "stdout",
     "output_type": "stream",
     "text": [
      "{1, 4}\n",
      "{1, 3, 5, 6}\n",
      "{4, 6}\n",
      "[4]\n"
     ]
    }
   ],
   "source": [
    "import random\n",
    "import copy\n",
    "\n",
    "\n",
    "def removeAllIncidentEdges(G: GraphI, v: int):\n",
    "    for neighbor in G.get_neighbors(v):\n",
    "        G.remove_edge(v, neighbor)\n",
    "\n",
    "    G.get_graph()[v] = []\n",
    "\n",
    "\n",
    "def Approx3(graph: GraphI) -> Set[int]:\n",
    "    # Creating a local copy of the input graph\n",
    "    G: GraphI = copy.deepcopy(graph)\n",
    "\n",
    "    C = set()\n",
    "\n",
    "    edges = [(x, y) for x in G.get_graph() for y in G.get_neighbors(x)]\n",
    "\n",
    "    while len(edges) > 0:\n",
    "        random_edge = random.choice(edges)\n",
    "        C.add(random_edge[0])\n",
    "        C.add(random_edge[1])\n",
    "        removeAllIncidentEdges(G, random_edge[0])\n",
    "        removeAllIncidentEdges(G, random_edge[1])\n",
    "\n",
    "        if is_vertex_cover(graph.get_graph(), C):\n",
    "            return C\n",
    "\n",
    "    return C\n",
    "\n",
    "\n",
    "G = {\n",
    "    1: [2, 3],\n",
    "    4: [5, 6],\n",
    "}\n",
    "\n",
    "arr = []\n",
    "for k, v in G.items():\n",
    "    for i in v:\n",
    "        arr.append((k, i))\n",
    "\n",
    "G = GraphI(arr)\n",
    "print(Approx1(G))\n",
    "print(Approx2(G))\n",
    "print(Approx3(G))\n",
    "print(MVC(G.get_graph()))"
   ]
  },
  {
   "cell_type": "markdown",
   "metadata": {},
   "source": [
    "## Part 2.4\n"
   ]
  },
  {
   "cell_type": "code",
   "execution_count": 18,
   "metadata": {},
   "outputs": [
    {
     "data": {
      "image/png": "[encoded data removed]",
      "text/plain": [
       "<Figure size 640x480 with 3 Axes>"
      ]
     },
     "metadata": {},
     "output_type": "display_data"
    }
   ],
   "source": [
    "import matplotlib.pyplot as plt\n",
    "num_edges = [1, 5, 10, 15, 20]\n",
    "\n",
    "\n",
    "true_values = []\n",
    "\n",
    "Approx1_values = []\n",
    "Approx2_values = []\n",
    "Approx3_values = []\n",
    "\n",
    "\n",
    "for e in num_edges:\n",
    "    Approx1_sums = []\n",
    "    Approx2_sums = []\n",
    "    Approx3_sums = []\n",
    "    true_sums = []\n",
    "    for i in range(100):\n",
    "        G = create_random_graph(6, e)\n",
    "\n",
    "        Approx1_sums.append(len(Approx1(G)))\n",
    "        Approx2_sums.append(len(Approx2(G)))\n",
    "        Approx3_sums.append(len(Approx3(G)))\n",
    "        true_sums.append(len(MVC(G.get_graph())))\n",
    "\n",
    "    Approx1_values.append(sum(Approx1_sums) / len(Approx1_sums))\n",
    "    Approx2_values.append(sum(Approx2_sums) / len(Approx2_sums))\n",
    "    Approx3_values.append(sum(Approx3_sums) / len(Approx3_sums))\n",
    "    true_values.append(sum(true_sums) / len(true_sums))\n",
    "\n",
    "\n",
    "# Plotting Approx1 values\n",
    "plt.subplot(3, 1, 1)\n",
    "plt.plot(num_edges, Approx1_values, label='Approx1')\n",
    "plt.plot(num_edges, true_values, label='True')\n",
    "plt.xlabel('Number of Edges')\n",
    "plt.ylabel('Number of Vertices')\n",
    "plt.title('Approx1 vs True')\n",
    "plt.legend()\n",
    "\n",
    "# Plotting Approx2 values\n",
    "plt.subplot(3, 1, 2)\n",
    "plt.plot(num_edges, Approx2_values, label='Approx2')\n",
    "plt.plot(num_edges, true_values, label='True')\n",
    "plt.xlabel('Number of Edges')\n",
    "plt.ylabel('Number of Vertices')\n",
    "plt.title('Approx2 vs True')\n",
    "plt.legend()\n",
    "\n",
    "# Plotting Approx3 values\n",
    "plt.subplot(3, 1, 3)\n",
    "plt.plot(num_edges, Approx3_values, label='Approx3')\n",
    "plt.plot(num_edges, true_values, label='True')\n",
    "plt.xlabel('Number of Edges')\n",
    "plt.ylabel('Number of Vertices')\n",
    "plt.title('Approx3 vs True')\n",
    "plt.legend()\n",
    "\n",
    "plt.tight_layout()\n",
    "\n",
    "# Adjusting the layout\n",
    "# Display the plots\n",
    "plt.show()"
   ]
  },
  {
   "cell_type": "markdown",
   "metadata": {},
   "source": [
    "The approximations seem to have a noticable gap. The approximation functions seem to include unnecessary nodes in the MVC. This discrepancy gets worse as the number of edges in the graph increases\n"
   ]
  },
  {
   "cell_type": "markdown",
   "metadata": {},
   "source": []
  },
  {
   "cell_type": "markdown",
   "metadata": {},
   "source": [
    "## Part 2.5\n"
   ]
  },
  {
   "cell_type": "code",
   "execution_count": 19,
   "metadata": {},
   "outputs": [],
   "source": [
    "from itertools import combinations\n",
    "\n",
    "\n",
    "def check_independent_set(G: Dict[int, List[int]], S: tuple) -> bool:\n",
    "    # Check if the set S is an independent set in graph G\n",
    "    for u in S:\n",
    "        for v in S:\n",
    "            if u != v and v in G[u]:\n",
    "                return False\n",
    "    return True\n",
    "\n",
    "\n",
    "def MIS(G: Dict[int, List[int]]) -> list:\n",
    "    # Find a maximum independent set in graph G\n",
    "    nodes = list(G.keys())\n",
    "    max_independent_set = set()\n",
    "\n",
    "    for r in range(len(nodes) + 1):\n",
    "        for subset in combinations(nodes, r):\n",
    "            if check_independent_set(G, subset):\n",
    "                if len(subset) > len(max_independent_set):\n",
    "                    max_independent_set = set(subset)\n",
    "\n",
    "    return list(max_independent_set)\n",
    "\n",
    "\n",
    "G1 = {\n",
    "    0: [1, 2],\n",
    "    1: [0, 3],\n",
    "    2: [0],\n",
    "    3: [1]\n",
    "}"
   ]
  },
  {
   "cell_type": "markdown",
   "metadata": {},
   "source": [
    "## Part 2.6\n"
   ]
  },
  {
   "cell_type": "code",
   "execution_count": 22,
   "metadata": {},
   "outputs": [
    {
     "name": "stdout",
     "output_type": "stream",
     "text": [
      "Graph: {2: [5, 9, 9], 5: [9, 0], 1: [9, 5], 9: [], 4: [8, 0], 8: [], 0: [], 6: [5]}\n",
      "MIS: [0, 1, 2, 6, 8] Size: 5\n",
      "MVC: {3, 4, 5, 7, 9} Size: 5\n",
      "Total Nodes: 10 MIS + MVC: 10\n"
     ]
    }
   ],
   "source": [
    "def complement_of_set(total_nodes, subset):\n",
    "    return set(range(total_nodes)) - set(subset)\n",
    "\n",
    "\n",
    "num_nodes = 10\n",
    "edges = 10\n",
    "random_graph = create_random_graph(num_nodes, edges)\n",
    "\n",
    "mis = MIS(random_graph.get_graph())\n",
    "mvc = complement_of_set(num_nodes, mis)\n",
    "\n",
    "print(\"Graph:\", random_graph.get_graph())\n",
    "print(\"MIS:\", mis, \"Size:\", len(mis))\n",
    "print(\"MVC:\", mvc, \"Size:\", len(mvc))\n",
    "print(\"Total Nodes:\", num_nodes, \"MIS + MVC:\", len(mis) + len(mvc))"
   ]
  },
  {
   "cell_type": "markdown",
   "metadata": {},
   "source": [
    "Yes, there is a fundamental relationship between the Maximum Independent Set (MIS) and the Minimum Vertex Cover (MVC) in a graph theory. In any graph, the sum of the sizes of the MIS and the MVC is equal to the total number of vertices in the graph. This is because the MIS and MVC are complementary sets with respect to the vertex set of the graph. The complement of a vertex cover in any graph is an independent set, so a minimum vertex cover is complementary to a maximum independent set.\n"
   ]
  },
  {
   "cell_type": "markdown",
   "metadata": {},
   "source": [
    "## 2.7\n"
   ]
  },
  {
   "cell_type": "markdown",
   "metadata": {},
   "source": [
    "In any graph, the sum of the sizes of the MIS and the MVC is equal to the total number of vertices in the graph. This is because the MIS and MVC are complementary sets with respect to the vertex set of the graph.\n",
    "\n",
    "Both algorithms employ a brute-force or heuristic approach. The MIS function checks all possible combinations of nodes, which has an exponential time complexity and is thus not efficient for large graphs. The MVC function uses a greedy heuristic, which can be much faster but does not guarantee the smallest vertex cover.\n",
    "\n",
    "The MIS function is guaranteed to find a maximum independent set because it exhaustively checks all possibilities. However, the MVC function is not guaranteed to find the minimum vertex cover due to its heuristic nature; it only guarantees a vertex cover, not the smallest one.\n",
    "\n",
    "While the total number of vertices in a graph may not always equal the sum of the average sizes of MIS and MVC across several random graphs, it frequently does.\n",
    "\n",
    "Empirically, we can infer that, in most cases, the size of the MIS and MVC have an inverse relationship; however, the precise nature of this relationship varies based on the particular features of the graphs.\n",
    "\n",
    "Worst-case time complexity of MIS: The time complexity of the MIS function is O(2^n \\* n^2) where n is the number of nodes in the graph. This is because the function iterates through all possible subsets of nodes, which is 2^n subsets, and for each subset, it checks if it is an independent set by iterating through all pairs of nodes in the subset, resulting in a time complexity of O(n^2) for each subset. Therefore, the overall time complexity is O(2^n . n^2).\n",
    "\n",
    "Worst-case time complexity of MVC: \"get_highest_degree_vertex\" is called once per iteration of the while loop, contributing O(n) each time. \"is_vertex_cover\" is called once per iteration of the while loop, contributing O(e) each time. The while loop can run up to n times in the worst case. So, the total worst-case time complexity of min_vertex_cover is O(n^2 + n.e).\n"
   ]
  },
  {
   "cell_type": "markdown",
   "metadata": {},
   "source": [
    "### Saad (Khalis68) -> 1.3,1.4,1.5,1.6,1.7,2.1,2.2,2.4\n",
    "\n",
    "### Jenil (maruj) -> 2.5, 2.6, 2.7\n",
    "\n",
    "### Pritha (sahap) -> 1.1, 1.2, 2.3\n"
   ]
  }
 ],
 "metadata": {
  "kernelspec": {
   "display_name": "base",
   "language": "python",
   "name": "python3"
  },
  "language_info": {
   "codemirror_mode": {
    "name": "ipython",
    "version": 3
   },
   "file_extension": ".py",
   "mimetype": "text/x-python",
   "name": "python",
   "nbconvert_exporter": "python",
   "pygments_lexer": "ipython3",
   "version": "3.9.12"
  }
 },
 "nbformat": 4,
 "nbformat_minor": 2
}
